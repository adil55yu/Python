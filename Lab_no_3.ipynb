{
  "nbformat": 4,
  "nbformat_minor": 0,
  "metadata": {
    "colab": {
      "provenance": []
    },
    "kernelspec": {
      "name": "python3",
      "display_name": "Python 3"
    },
    "language_info": {
      "name": "python"
    }
  },
  "cells": [
    {
      "cell_type": "markdown",
      "source": [
        "Practice Task;"
      ],
      "metadata": {
        "id": "wyXu8biTUwZ1"
      }
    },
    {
      "cell_type": "code",
      "source": [
        "graph={\n",
        "    '5':['3','7'],\n",
        "    '3':['2','4'],\n",
        "    '7':['8'],\n",
        "    '2':[],\n",
        "    '4':['8'],\n",
        "    '8':[]\n",
        "}\n",
        "visited=[]\n",
        "queue=[]\n",
        "def bfs(visited,graph,node):\n",
        "    visited.append(node)\n",
        "    queue.append(node)\n",
        "    while queue:\n",
        "        m=queue.pop(0)\n",
        "        print(m,end=\" \")\n",
        "        for neighbour in graph[m]:\n",
        "            if neighbour not in visited:\n",
        "                visited.append(neighbour)\n",
        "                queue.append(neighbour)\n",
        "print(\"Following is the breadth-first search\")\n",
        "bfs(visited,graph,'5')"
      ],
      "metadata": {
        "colab": {
          "base_uri": "https://localhost:8080/"
        },
        "id": "1Zep3EYqVDUX",
        "outputId": "fd999b03-962a-4466-d807-470a5c63b6cd"
      },
      "execution_count": 8,
      "outputs": [
        {
          "output_type": "stream",
          "name": "stdout",
          "text": [
            "Following is the breadth-first search\n",
            "5 3 7 2 4 8 "
          ]
        }
      ]
    },
    {
      "cell_type": "markdown",
      "source": [
        "Task No 1:"
      ],
      "metadata": {
        "id": "KSI7Vgp16ok9"
      }
    },
    {
      "cell_type": "code",
      "source": [
        "class Parallelogram:\n",
        "    def __init__(self, base, height):\n",
        "        self.base = base\n",
        "        self.height = height\n",
        "\n",
        "    def calculate_area(self):\n",
        "        area = self.base * self.height\n",
        "        return area\n",
        "\n",
        "base = float(input(\"Enter the base of the parallelogram: \"))\n",
        "height = float(input(\"Enter the height of the parallelogram: \"))\n",
        "\n",
        "p = Parallelogram(base, height)\n",
        "print(\"Area of the parallelogram:\", p.calculate_area())\n"
      ],
      "metadata": {
        "colab": {
          "base_uri": "https://localhost:8080/"
        },
        "id": "xY4zV08qYQUU",
        "outputId": "9a5f411a-38db-4502-d628-b0864730b454"
      },
      "execution_count": 9,
      "outputs": [
        {
          "output_type": "stream",
          "name": "stdout",
          "text": [
            "Enter the base of the parallelogram: 14\n",
            "Enter the height of the parallelogram: 6\n",
            "Area of the parallelogram: 84.0\n"
          ]
        }
      ]
    },
    {
      "cell_type": "markdown",
      "source": [
        "Task No 2:"
      ],
      "metadata": {
        "id": "33SEb3v66ve4"
      }
    },
    {
      "cell_type": "code",
      "source": [
        "from collections import deque\n",
        "\n",
        "graph = {\n",
        "    'Arad': {'Zerind': 75, 'Timisoara': 118, 'Sibiu': 140},\n",
        "    'Zerind': {'Arad': 75, 'Oradea': 71},\n",
        "    'Oradea': {'Zerind': 71, 'Sibiu': 151},\n",
        "    'Timisoara': {'Arad': 118, 'Lugoj': 111},\n",
        "    'Lugoj': {'Timisoara': 111, 'Mehadia': 70},\n",
        "    'Mehadia': {'Lugoj': 70, 'Dobreta': 75},\n",
        "    'Dobreta': {'Mehadia': 75, 'Craiova': 120},\n",
        "    'Craiova': {'Dobreta': 120, 'Rimnicu Vilcea': 146, 'Pitesti': 138},\n",
        "    'Rimnicu Vilcea': {'Sibiu': 80, 'Craiova': 146, 'Pitesti': 97},\n",
        "    'Sibiu': {'Arad': 140, 'Oradea': 151, 'Rimnicu Vilcea': 80, 'Fagaras': 99},\n",
        "    'Fagaras': {'Sibiu': 99, 'Bucharest': 211},\n",
        "    'Pitesti': {'Rimnicu Vilcea': 97, 'Craiova': 138, 'Bucharest': 101},\n",
        "    'Bucharest': {'Fagaras': 211, 'Pitesti': 101, 'Giurgiu': 90, 'Urziceni': 85},\n",
        "    'Giurgiu': {'Bucharest': 90},\n",
        "    'Urziceni': {'Bucharest': 85, 'Hirsova': 98, 'Vaslui': 142},\n",
        "    'Hirsova': {'Urziceni': 98, 'Eforie': 86},\n",
        "    'Eforie': {'Hirsova': 86},\n",
        "    'Vaslui': {'Urziceni': 142, 'Iasi': 92},\n",
        "    'Iasi': {'Vaslui': 92, 'Neamt': 87},\n",
        "    'Neamt': {'Iasi': 87}\n",
        "}\n",
        "\n",
        "def bfs(start, goal):\n",
        "    queue = deque([(start, [start], 0)])\n",
        "    visited = set()\n",
        "\n",
        "    while queue:\n",
        "        node, path, cost = queue.popleft()\n",
        "        if node == goal:\n",
        "            return path, cost\n",
        "        visited.add(node)\n",
        "        for neighbor, distance in graph[node].items():\n",
        "            if neighbor not in visited:\n",
        "                queue.append((neighbor, path + [neighbor], cost + distance))\n",
        "\n",
        "def dfs(start, goal):\n",
        "    stack = [(start, [start], 0)]\n",
        "    visited = set()\n",
        "\n",
        "    while stack:\n",
        "        node, path, cost = stack.pop()\n",
        "        if node == goal:\n",
        "            return path, cost\n",
        "        visited.add(node)\n",
        "        for neighbor, distance in graph[node].items():\n",
        "            if neighbor not in visited:\n",
        "                stack.append((neighbor, path + [neighbor], cost + distance))\n",
        "\n",
        "start = 'Arad'\n",
        "goal = 'Bucharest'\n",
        "\n",
        "bfs_path, bfs_cost = bfs(start, goal)\n",
        "dfs_path, dfs_cost = dfs(start, goal)\n",
        "\n",
        "print(\"Breadth First Search:\")\n",
        "print(\"Path:\", \" -> \".join(bfs_path))\n",
        "print(\"Total Distance:\", bfs_cost)\n",
        "\n",
        "print(\"\\nDepth First Search:\")\n",
        "print(\"Path:\", \" -> \".join(dfs_path))\n",
        "print(\"Total Distance:\", dfs_cost)\n"
      ],
      "metadata": {
        "colab": {
          "base_uri": "https://localhost:8080/"
        },
        "id": "GAdYXnuJ62qD",
        "outputId": "9d537b15-bc3b-46e4-f12f-450eba4d27d2"
      },
      "execution_count": 1,
      "outputs": [
        {
          "output_type": "stream",
          "name": "stdout",
          "text": [
            "Breadth First Search:\n",
            "Path: Arad -> Sibiu -> Fagaras -> Bucharest\n",
            "Total Distance: 450\n",
            "\n",
            "Depth First Search:\n",
            "Path: Arad -> Sibiu -> Fagaras -> Bucharest\n",
            "Total Distance: 450\n"
          ]
        }
      ]
    }
  ]
}