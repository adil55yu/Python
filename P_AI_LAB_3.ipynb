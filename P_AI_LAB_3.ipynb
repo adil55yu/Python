{
  "nbformat": 4,
  "nbformat_minor": 0,
  "metadata": {
    "colab": {
      "provenance": []
    },
    "kernelspec": {
      "name": "python3",
      "display_name": "Python 3"
    },
    "language_info": {
      "name": "python"
    }
  },
  "cells": [
    {
      "cell_type": "code",
      "execution_count": null,
      "metadata": {
        "colab": {
          "base_uri": "https://localhost:8080/"
        },
        "id": "b6prZh1CEgu_",
        "outputId": "4da3cdea-a2f6-4afe-b92f-7425f4fe8f9e"
      },
      "outputs": [
        {
          "output_type": "stream",
          "name": "stdout",
          "text": [
            "Enter a number: 79\n",
            "79 is not a multiple of 13\n"
          ]
        }
      ],
      "source": [
        "num = int(input(\"Enter a number: \"))\n",
        "\n",
        "if num % 13 == 0:\n",
        "    print(num, \"is a multiple of 13\")\n",
        "else:\n",
        "    print(num, \"is not a multiple of 13\")\n"
      ]
    },
    {
      "cell_type": "code",
      "source": [
        "numbers = []\n",
        "\n",
        "for i in range(5):\n",
        "    n = int(input(f\"Enter number {i+1}: \"))\n",
        "    numbers.append(n)\n",
        "\n",
        "print(\"The smallest number is:\", min(numbers))\n"
      ],
      "metadata": {
        "colab": {
          "base_uri": "https://localhost:8080/"
        },
        "id": "S1x_5z5ZGwVr",
        "outputId": "0d946d5f-074d-46ed-ccc9-bf8d2949cf16"
      },
      "execution_count": null,
      "outputs": [
        {
          "output_type": "stream",
          "name": "stdout",
          "text": [
            "Enter number 1: 4\n",
            "Enter number 2: 3\n",
            "Enter number 3: 2\n",
            "Enter number 4: 6\n",
            "Enter number 5: 4\n",
            "The smallest number is: 2\n"
          ]
        }
      ]
    },
    {
      "cell_type": "code",
      "source": [
        "for i in range(500, 119, -1):\n",
        "    if i % 2 == 0:\n",
        "        print(i, end=\" \")\n"
      ],
      "metadata": {
        "colab": {
          "base_uri": "https://localhost:8080/"
        },
        "id": "uDDxDmfdG-b_",
        "outputId": "6360552b-cc18-44d3-a62a-61c01e4b3fac"
      },
      "execution_count": null,
      "outputs": [
        {
          "output_type": "stream",
          "name": "stdout",
          "text": [
            "500 498 496 494 492 490 488 486 484 482 480 478 476 474 472 470 468 466 464 462 460 458 456 454 452 450 448 446 444 442 440 438 436 434 432 430 428 426 424 422 420 418 416 414 412 410 408 406 404 402 400 398 396 394 392 390 388 386 384 382 380 378 376 374 372 370 368 366 364 362 360 358 356 354 352 350 348 346 344 342 340 338 336 334 332 330 328 326 324 322 320 318 316 314 312 310 308 306 304 302 300 298 296 294 292 290 288 286 284 282 280 278 276 274 272 270 268 266 264 262 260 258 256 254 252 250 248 246 244 242 240 238 236 234 232 230 228 226 224 222 220 218 216 214 212 210 208 206 204 202 200 198 196 194 192 190 188 186 184 182 180 178 176 174 172 170 168 166 164 162 160 158 156 154 152 150 148 146 144 142 140 138 136 134 132 130 128 126 124 122 120 "
          ]
        }
      ]
    },
    {
      "cell_type": "code",
      "source": [
        "tup = (2, 4, 1, 5, 6, 11, 9, 10, 3, 6, 100, 44, 40, 20)\n",
        "x = int(input(\"Enter number to search: \"))\n",
        "\n",
        "found = False\n",
        "for i in tup:\n",
        "    if i == x:\n",
        "        found = True\n",
        "        break\n",
        "\n",
        "if found:\n",
        "    print(x, \"found in tuple\")\n",
        "else:\n",
        "    print(x, \"not found in tuple\")\n"
      ],
      "metadata": {
        "colab": {
          "base_uri": "https://localhost:8080/"
        },
        "id": "4oZgxyFyHck6",
        "outputId": "3556ddef-a158-42c7-bc56-4f555fd47f66"
      },
      "execution_count": null,
      "outputs": [
        {
          "output_type": "stream",
          "name": "stdout",
          "text": [
            "Enter number to search: 4\n",
            "4 found in tuple\n"
          ]
        }
      ]
    },
    {
      "cell_type": "code",
      "source": [
        "lst = [2, 4, 1, 5, 6, 11, 9, 10, 3, 6, 100, 44, 40, 20]\n",
        "\n",
        "for item in lst:\n",
        "    print(item)\n"
      ],
      "metadata": {
        "colab": {
          "base_uri": "https://localhost:8080/"
        },
        "id": "g-gy3U5RHiQG",
        "outputId": "b8bc2465-3c14-49ec-ce51-e696df2df0d8"
      },
      "execution_count": null,
      "outputs": [
        {
          "output_type": "stream",
          "name": "stdout",
          "text": [
            "2\n",
            "4\n",
            "1\n",
            "5\n",
            "6\n",
            "11\n",
            "9\n",
            "10\n",
            "3\n",
            "6\n",
            "100\n",
            "44\n",
            "40\n",
            "20\n"
          ]
        }
      ]
    },
    {
      "cell_type": "code",
      "source": [
        "num = int(input(\"Enter a number: \"))\n",
        "\n",
        "if num % 3 == 0 and num % 5 == 0:\n",
        "    print(\"The number is divisible by both 3 and 5\")\n",
        "else:\n",
        "    print(\"The number is not divisible by both 3 and 5\")\n"
      ],
      "metadata": {
        "colab": {
          "base_uri": "https://localhost:8080/"
        },
        "id": "wr_jOr4bHvEc",
        "outputId": "5665e236-15b9-45eb-a867-279a0cdf27ef"
      },
      "execution_count": null,
      "outputs": [
        {
          "output_type": "stream",
          "name": "stdout",
          "text": [
            "Enter a number: 4\n",
            "The number is not divisible by both 3 and 5\n"
          ]
        }
      ]
    },
    {
      "cell_type": "code",
      "source": [
        "total = 0\n",
        "\n",
        "for i in range(1, 21, 2):  # Step by 2 to get only odd numbers\n",
        "    total += i\n",
        "\n",
        "print(\"Sum of odd numbers between 1 and 20:\", total)\n"
      ],
      "metadata": {
        "colab": {
          "base_uri": "https://localhost:8080/"
        },
        "id": "vx4DOxRmH145",
        "outputId": "0627216a-d9f4-40ea-fe33-0d05898554cb"
      },
      "execution_count": null,
      "outputs": [
        {
          "output_type": "stream",
          "name": "stdout",
          "text": [
            "Sum of odd numbers between 1 and 20: 100\n"
          ]
        }
      ]
    },
    {
      "cell_type": "code",
      "source": [
        "while True:\n",
        "    num = int(input(\"Enter a number (negative to stop): \"))\n",
        "    if num < 0:\n",
        "        break\n",
        "    print(\"Square:\", num ** 2)\n"
      ],
      "metadata": {
        "colab": {
          "base_uri": "https://localhost:8080/"
        },
        "id": "R-AzwdsBH9l5",
        "outputId": "a9eb8253-eb3a-48e5-c56d-a9f24542e870"
      },
      "execution_count": null,
      "outputs": [
        {
          "name": "stdout",
          "output_type": "stream",
          "text": [
            "Enter a number (negative to stop): 4\n",
            "Square: 16\n",
            "Enter a number (negative to stop): -4\n"
          ]
        }
      ]
    },
    {
      "cell_type": "code",
      "source": [
        "n = int(input(\"Enter a number: \"))\n",
        "\n",
        "count = 0\n",
        "temp = abs(n)  # handle negative numbers\n",
        "\n",
        "if temp == 0:\n",
        "    count = 1\n",
        "else:\n",
        "    while temp > 0:\n",
        "        temp //= 10\n",
        "        count += 1\n",
        "\n",
        "print(\"Total digits:\", count)\n"
      ],
      "metadata": {
        "colab": {
          "base_uri": "https://localhost:8080/"
        },
        "id": "V2DNmPskILrP",
        "outputId": "c6b4a40f-1572-41e8-c212-f1d9d524b146"
      },
      "execution_count": null,
      "outputs": [
        {
          "output_type": "stream",
          "name": "stdout",
          "text": [
            "Enter a number: 78\n",
            "Total digits: 2\n"
          ]
        }
      ]
    },
    {
      "cell_type": "code",
      "source": [
        " n = int(input(\"Enter a number: \"))\n",
        "\n",
        "reverse = 0\n",
        "while n > 0:\n",
        "    digit = n % 10\n",
        "    reverse = reverse * 10 + digit\n",
        "    n //= 10\n",
        "\n",
        "print(\"Reversed number:\", reverse)\n"
      ],
      "metadata": {
        "colab": {
          "base_uri": "https://localhost:8080/"
        },
        "id": "3ZQCdKlYIqHN",
        "outputId": "c69a25e5-cc70-44b0-e771-1a481df3b443"
      },
      "execution_count": null,
      "outputs": [
        {
          "output_type": "stream",
          "name": "stdout",
          "text": [
            "Enter a number: 56\n",
            "Reversed number: 65\n"
          ]
        }
      ]
    },
    {
      "cell_type": "code",
      "source": [
        "for i in range(1, 4):\n",
        "    print(\"*\" * i)\n"
      ],
      "metadata": {
        "colab": {
          "base_uri": "https://localhost:8080/"
        },
        "id": "vyHJctniMRi6",
        "outputId": "cfb11970-380a-4e19-af8c-4abf4550f107"
      },
      "execution_count": null,
      "outputs": [
        {
          "output_type": "stream",
          "name": "stdout",
          "text": [
            "*\n",
            "**\n",
            "***\n"
          ]
        }
      ]
    },
    {
      "cell_type": "code",
      "source": [
        "for i in range(1, 10):\n",
        "    if i == 4:\n",
        "        continue\n",
        "    if i == 8:\n",
        "        break\n",
        "    print(i)\n"
      ],
      "metadata": {
        "colab": {
          "base_uri": "https://localhost:8080/"
        },
        "id": "0hS-uHvpMZEY",
        "outputId": "b73f9ecc-14bd-4ed3-d61f-b4b552465cbb"
      },
      "execution_count": null,
      "outputs": [
        {
          "output_type": "stream",
          "name": "stdout",
          "text": [
            "1\n",
            "2\n",
            "3\n",
            "5\n",
            "6\n",
            "7\n"
          ]
        }
      ]
    }
  ]
}