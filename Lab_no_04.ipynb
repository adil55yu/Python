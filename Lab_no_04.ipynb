{
  "nbformat": 4,
  "nbformat_minor": 0,
  "metadata": {
    "colab": {
      "provenance": []
    },
    "kernelspec": {
      "name": "python3",
      "display_name": "Python 3"
    },
    "language_info": {
      "name": "python"
    }
  },
  "cells": [
    {
      "cell_type": "markdown",
      "source": [
        "Name:Adil Khan,\n",
        "Roll No:2330-0030,\n",
        "Lab#4:\n",
        "1. Write a function count_even_odd(numbers) that takes a list of integers and prints how many\n",
        "numbers are even and how many are odd. Use a loop and if condition.\n",
        "\n",
        "\n"
      ],
      "metadata": {
        "id": "mnr5psQq1SX1"
      }
    },
    {
      "cell_type": "code",
      "execution_count": null,
      "metadata": {
        "colab": {
          "base_uri": "https://localhost:8080/"
        },
        "id": "hbaW7wA61GKv",
        "outputId": "4aec0c0d-c3b5-4576-ddc9-e2d3cfae3f94"
      },
      "outputs": [
        {
          "output_type": "stream",
          "name": "stdout",
          "text": [
            "Even numbers: 4\n",
            "Odd numbers: 5\n"
          ]
        }
      ],
      "source": [
        "def count_even_odd(numbers):\n",
        "    even_count = 0\n",
        "    odd_count = 0\n",
        "\n",
        "    for num in numbers:\n",
        "        if num % 2 == 0:\n",
        "            even_count += 1\n",
        "        else:\n",
        "            odd_count += 1\n",
        "\n",
        "    print(\"Even numbers:\", even_count)\n",
        "    print(\"Odd numbers:\", odd_count)\n",
        "\n",
        "numbers = [1, 2, 3, 4, 5, 6, 7, 8, 9]\n",
        "count_even_odd(numbers)"
      ]
    },
    {
      "cell_type": "markdown",
      "source": [
        "2. Write a function analyze_string(s) that counts how many characters in a string are vowels,\n",
        "consonants, digits, and special characters. Use for loop and if-elif statements."
      ],
      "metadata": {
        "id": "iNXZi_2n3gMh"
      }
    },
    {
      "cell_type": "code",
      "source": [
        "def analyze_string(s):\n",
        "    vowels = \"aeiouAEIOU\"\n",
        "    vowel_count = 0\n",
        "    consonant_count = 0\n",
        "    digit_count = 0\n",
        "    special_count = 0\n",
        "\n",
        "    for char in s:\n",
        "        if char.isdigit():\n",
        "            digit_count += 1\n",
        "        elif char.isalpha():\n",
        "            if char in vowels:\n",
        "                vowel_count += 1\n",
        "            else:\n",
        "                consonant_count += 1\n",
        "        else:\n",
        "            special_count += 1\n",
        "\n",
        "    print(\"Vowels:\", vowel_count)\n",
        "    print(\"Consonants:\", consonant_count)\n",
        "    print(\"Digits:\", digit_count)\n",
        "    print(\"Special characters:\", special_count)\n",
        "\n",
        "analyze_string(\"Hello World! 123\")"
      ],
      "metadata": {
        "colab": {
          "base_uri": "https://localhost:8080/"
        },
        "id": "QQRcWac-3pFN",
        "outputId": "a15f9099-74f7-4c61-a822-fff9f8d16297"
      },
      "execution_count": null,
      "outputs": [
        {
          "output_type": "stream",
          "name": "stdout",
          "text": [
            "Vowels: 3\n",
            "Consonants: 7\n",
            "Digits: 3\n",
            "Special characters: 3\n"
          ]
        }
      ]
    },
    {
      "cell_type": "markdown",
      "source": [
        "3. Write a function find_max(t) that takes a tuple of numbers and returns the largest number using a\n",
        "loop (without using max())."
      ],
      "metadata": {
        "id": "3SZOqGDB36mP"
      }
    },
    {
      "cell_type": "code",
      "source": [
        "def find_max(t):\n",
        "    largest = t[0]\n",
        "    for num in t:\n",
        "        if num > largest:\n",
        "            largest = num\n",
        "    return largest\n",
        "\n",
        "numbers = (4, 9, 2, 15, 6, 3)\n",
        "print(\"Largest number:\", find_max(numbers))\n"
      ],
      "metadata": {
        "id": "n0k04hVI4TkI",
        "outputId": "66dfa7f1-226f-4297-e604-7d6810fee75f",
        "colab": {
          "base_uri": "https://localhost:8080/"
        }
      },
      "execution_count": null,
      "outputs": [
        {
          "output_type": "stream",
          "name": "stdout",
          "text": [
            "Largest number: 15\n"
          ]
        }
      ]
    },
    {
      "cell_type": "markdown",
      "source": [
        "4. Write a function search_student(record, name) that takes a dictionary of student names as keys and\n",
        "marks as values. If the student name exists, print their marks; otherwise, print “Record not found.”"
      ],
      "metadata": {
        "id": "imEgO8aau58B"
      }
    },
    {
      "cell_type": "code",
      "source": [
        "def search_student(record, name):\n",
        "    if name in record:\n",
        "        print(\"Marks:\", record[name])\n",
        "    else:\n",
        "        print(\"Record not found.\")\n",
        "\n",
        "students = {\"Ali\": 85, \"Sara\": 92, \"Hassan\": 78}\n",
        "search_student(students, \"Sara\")\n",
        "search_student(students, \"Ayesha\")"
      ],
      "metadata": {
        "colab": {
          "base_uri": "https://localhost:8080/"
        },
        "id": "TnDSxlaMvIXS",
        "outputId": "819dc397-aa20-4f63-d9c4-6c3c82e50588"
      },
      "execution_count": 1,
      "outputs": [
        {
          "output_type": "stream",
          "name": "stdout",
          "text": [
            "Marks: 92\n",
            "Record not found.\n"
          ]
        }
      ]
    },
    {
      "cell_type": "markdown",
      "source": [
        "5. Write a function filter_greater_than(lst, threshold) that takes a list of integers and a threshold value.\n",
        "Print all numbers greater than the threshold, otherwise print “No numbers greater than threshold.”"
      ],
      "metadata": {
        "id": "3feajMKkwAQ4"
      }
    },
    {
      "cell_type": "code",
      "source": [
        "def filter_greater_than(lst, threshold):\n",
        "    greater_numbers = [num for num in lst if num > threshold]\n",
        "    if greater_numbers:\n",
        "        print(\"Numbers greater than threshold:\", greater_numbers)\n",
        "    else:\n",
        "        print(\"No numbers greater than threshold.\")\n",
        "\n",
        "numbers = [10, 25, 5, 40, 15]\n",
        "filter_greater_than(numbers, 20)\n",
        "filter_greater_than(numbers, 50)"
      ],
      "metadata": {
        "colab": {
          "base_uri": "https://localhost:8080/"
        },
        "id": "jhOiZqu9wk8T",
        "outputId": "f42517b0-65b8-4a5c-e1e4-8d77779655fe"
      },
      "execution_count": 2,
      "outputs": [
        {
          "output_type": "stream",
          "name": "stdout",
          "text": [
            "Numbers greater than threshold: [25, 40]\n",
            "No numbers greater than threshold.\n"
          ]
        }
      ]
    },
    {
      "cell_type": "markdown",
      "source": [
        "6. Write a function is_palindrome(word) that checks whether the given string is a palindrome or not.\n",
        "Use string slicing or a loop for comparison."
      ],
      "metadata": {
        "id": "4JBF7m4lwrxR"
      }
    },
    {
      "cell_type": "code",
      "source": [
        "def is_palindrome(word):\n",
        "    if word == word[::-1]:\n",
        "        print(\"It is a palindrome.\")\n",
        "    else:\n",
        "        print(\"It is not a palindrome.\")\n",
        "\n",
        "word = \"madam\"\n",
        "is_palindrome(word)\n",
        "\n",
        "word = \"hello\"\n",
        "is_palindrome(word)\n"
      ],
      "metadata": {
        "colab": {
          "base_uri": "https://localhost:8080/"
        },
        "id": "sVWfqJmcww_B",
        "outputId": "5fcc273f-aa8a-4da5-83ca-c3a2adc2bbfe"
      },
      "execution_count": 3,
      "outputs": [
        {
          "output_type": "stream",
          "name": "stdout",
          "text": [
            "It is a palindrome.\n",
            "It is not a palindrome.\n"
          ]
        }
      ]
    },
    {
      "cell_type": "markdown",
      "source": [
        "7. Write a function char_frequency(text) that counts how many times each character appears in the\n",
        "string and stores it in a dictionary. Use a loop and if condition to check if a character already exists\n",
        "as a key."
      ],
      "metadata": {
        "id": "jYAlON_Rw8_a"
      }
    },
    {
      "cell_type": "code",
      "source": [
        "def char_frequency(text):\n",
        "    freq = {}\n",
        "    for char in text:\n",
        "        if char in freq:\n",
        "            freq[char] += 1\n",
        "        else:\n",
        "            freq[char] = 1\n",
        "    print(freq)\n",
        "\n",
        "text = \"hello\"\n",
        "char_frequency(text)"
      ],
      "metadata": {
        "colab": {
          "base_uri": "https://localhost:8080/"
        },
        "id": "FRkQRDUmxAog",
        "outputId": "a00c7091-c68f-425e-c617-84926df05732"
      },
      "execution_count": 4,
      "outputs": [
        {
          "output_type": "stream",
          "name": "stdout",
          "text": [
            "{'h': 1, 'e': 1, 'l': 2, 'o': 1}\n"
          ]
        }
      ]
    },
    {
      "cell_type": "markdown",
      "source": [
        "8. Create a custom Python module named custom_math.py that implements the following\n",
        "mathematical functions:\n",
        "* factorial(n) – calculates the factorial of n using recursion\n",
        "* fibonacci(n) – returns the first n numbers in the Fibonacci sequence using recursion\n",
        "* gcd(a, b) – calculates the greatest common divisor of two numbers a and b.\n",
        "Then, write a Python program that imports the module and asks the user to input values for these\n",
        "functions. The program should call each function from the module and display the results."
      ],
      "metadata": {
        "id": "keuBN__rxQEe"
      }
    },
    {
      "cell_type": "code",
      "source": [
        "def factorial(n):\n",
        "    if n == 0 or n == 1:\n",
        "        return 1\n",
        "    else:\n",
        "        return n * factorial(n - 1)\n",
        "\n",
        "def fibonacci(n):\n",
        "    if n <= 0:\n",
        "        return []\n",
        "    elif n == 1:\n",
        "        return [0]\n",
        "    elif n == 2:\n",
        "        return [0, 1]\n",
        "    else:\n",
        "        seq = fibonacci(n - 1)\n",
        "        seq.append(seq[-1] + seq[-2])\n",
        "        return seq\n",
        "\n",
        "def gcd(a, b):\n",
        "    if b == 0:\n",
        "        return a\n",
        "    else:\n",
        "        return gcd(b, a % b)\n",
        "\n",
        "n = int(input(\"Enter a number for factorial: \"))\n",
        "print(\"Factorial:\", factorial(n))\n",
        "\n",
        "n = int(input(\"Enter how many Fibonacci numbers to display: \"))\n",
        "print(\"Fibonacci sequence:\", fibonacci(n))\n",
        "\n",
        "a = int(input(\"Enter first number for GCD: \"))\n",
        "b = int(input(\"Enter second number for GCD: \"))\n",
        "print(\"GCD:\", gcd(a, b))\n"
      ],
      "metadata": {
        "colab": {
          "base_uri": "https://localhost:8080/"
        },
        "id": "SNpzFyVBxUoM",
        "outputId": "5be29ad7-b2ac-41b9-b01d-f08b40ce5f1e"
      },
      "execution_count": 6,
      "outputs": [
        {
          "output_type": "stream",
          "name": "stdout",
          "text": [
            "Enter a number for factorial: 5\n",
            "Factorial: 120\n",
            "Enter how many Fibonacci numbers to display: 6\n",
            "Fibonacci sequence: [0, 1, 1, 2, 3, 5]\n",
            "Enter first number for GCD: 7\n",
            "Enter second number for GCD: 5\n",
            "GCD: 1\n"
          ]
        }
      ]
    }
  ]
}