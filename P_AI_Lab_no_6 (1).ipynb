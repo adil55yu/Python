{
  "nbformat": 4,
  "nbformat_minor": 0,
  "metadata": {
    "colab": {
      "provenance": []
    },
    "kernelspec": {
      "name": "python3",
      "display_name": "Python 3"
    },
    "language_info": {
      "name": "python"
    }
  },
  "cells": [
    {
      "cell_type": "markdown",
      "source": [
        "Name: Adil Khan (Roll no: 2330-0030)"
      ],
      "metadata": {
        "id": "AJpW2seLu7d3"
      }
    },
    {
      "cell_type": "markdown",
      "source": [
        "Q1. Write a definition for a class Book. The Book class has data attributes for a title, an author name and\n",
        "the number of pages. The class also has the following methods:\n",
        "a) An _ _init_ _ method for the class. The method should accept arguments for each of the data\n",
        "attributes.\n",
        "b) A special _ _len_ _ method to return the number of pages in the book.\n",
        "c) An _ _str_ _ method that returns a string showing the state of the object."
      ],
      "metadata": {
        "id": "nmbIve9huUnF"
      }
    },
    {
      "cell_type": "code",
      "execution_count": 8,
      "metadata": {
        "colab": {
          "base_uri": "https://localhost:8080/"
        },
        "id": "GMDm0fUxuE8_",
        "outputId": "98ea95f0-2211-47cf-8b6c-24223ca56688"
      },
      "outputs": [
        {
          "output_type": "stream",
          "name": "stdout",
          "text": [
            "Title: The art of using hands, Author: F. Scott Fitzgerald, Pages: 269\n"
          ]
        }
      ],
      "source": [
        "class Book:\n",
        "    def __init__(self, title, author, pages):\n",
        "        self.title = title\n",
        "        self.author = author\n",
        "        self.pages = pages\n",
        "\n",
        "    def __len__(self):\n",
        "        return self.pages\n",
        "\n",
        "    def __str__(self):\n",
        "        return f\"Title: {self.title}, Author: {self.author}, Pages: {self.pages}\"\n",
        "\n",
        "book1 = Book(\"The art of using hands\", \"F. Scott Fitzgerald\", 269)\n",
        "print(book1)\n",
        "\n"
      ]
    },
    {
      "cell_type": "markdown",
      "source": [
        "Q2. Write a class named Pet, which should have the following data attributes:\n",
        "a) _ _name (for the name of a pet)\n",
        "b) _ _animal_type (for the type of animal that a pet is. Example values are ‘Dog’, ‘Cat’, and\n",
        "‘Bird’\n",
        "c) _ _age (for the pet’s age) The Pet class should have an _ _init_ _ method that creates these\n",
        "attributes.\n",
        "It should also have the following methods:\n",
        "a) set_name: This method assigns a value to the _ _name field.\n",
        "b) set_animal_type: This method assigns a value to the _ _animal_type field.\n",
        "c) set_age: This method assigns a value to the _ _age field.\n",
        "d) get_name: This method returns the value of the _ _ name field.\n",
        "e) get_animal_type: This method returns the value of the _ _animal_type field.\n",
        "f) get_age: This method returns the value of the _ _age field.\n",
        "Once you have written the class, write a program that creates an object of the class and prompts the\n",
        "user to enter the name, type, and age of his or her pet. This data should be stored as the object’s\n",
        "attributes. Use the object’s accessor methods to retrieve the pet’s name, type, and age and display this\n",
        "data on the screen."
      ],
      "metadata": {
        "id": "gyXWbBrKvWZ2"
      }
    },
    {
      "cell_type": "code",
      "source": [
        "class Pet:\n",
        "    def __init__(self, name, animal_type, age):\n",
        "        self.__name = name\n",
        "        self.__animal_type = animal_type\n",
        "        self.__age = age\n",
        "\n",
        "    def set_name(self, name):\n",
        "        self.__name = name\n",
        "\n",
        "    def set_animal_type(self, animal_type):\n",
        "        self.__animal_type = animal_type\n",
        "\n",
        "    def set_age(self, age):\n",
        "        self.__age = age\n",
        "\n",
        "    def get_name(self):\n",
        "        return self.__name\n",
        "\n",
        "    def get_animal_type(self):\n",
        "        return self.__animal_type\n",
        "\n",
        "    def get_age(self):\n",
        "        return self.__age\n",
        "\n",
        "\n",
        "name = input(\"Enter your pet's name: \")\n",
        "animal_type = input(\"Enter the type of animal (e.g., Dog, Cat, Bird): \")\n",
        "age = input(\"Enter your pet's age: \")\n",
        "\n",
        "my_pet = Pet(name, animal_type, age)\n",
        "\n",
        "print(\"\\nPet Details:\")\n",
        "print(\"Name:\", my_pet.get_name())\n",
        "print(\"Animal Type:\", my_pet.get_animal_type())\n",
        "print(\"Age:\", my_pet.get_age())\n"
      ],
      "metadata": {
        "colab": {
          "base_uri": "https://localhost:8080/"
        },
        "id": "ply_nbzzx0vK",
        "outputId": "f1c24333-974f-4b48-b4ff-6ec4c3197273"
      },
      "execution_count": 4,
      "outputs": [
        {
          "output_type": "stream",
          "name": "stdout",
          "text": [
            "Enter your pet's name: soda\n",
            "Enter the type of animal (e.g., Dog, Cat, Bird): dog\n",
            "Enter your pet's age: 2\n",
            "\n",
            "Pet Details:\n",
            "Name: soda\n",
            "Animal Type: dog\n",
            "Age: 2\n"
          ]
        }
      ]
    },
    {
      "cell_type": "markdown",
      "source": [
        "Q3. Write a class named Employee that holds the following data about an employee in attributes: name,\n",
        "ID number, department, and job title."
      ],
      "metadata": {
        "id": "7gsp8JBOymbc"
      }
    },
    {
      "cell_type": "code",
      "source": [
        "class Employee:\n",
        "    def __init__(self, name, id_number, department, job_title):\n",
        "        self.name = name\n",
        "        self.id_number = id_number\n",
        "        self.department = department\n",
        "        self.job_title = job_title\n",
        "\n",
        "    def display(self):\n",
        "        print(f\"Name: {self.name}\")\n",
        "        print(f\"ID Number: {self.id_number}\")\n",
        "        print(f\"Department: {self.department}\")\n",
        "        print(f\"Job Title: {self.job_title}\")\n",
        "        print(\"-\" * 30)\n",
        "\n",
        "\n",
        "emp1 = Employee(\"Ahmed Khan\", 10234, \"Finance\", \"Manager\")\n",
        "emp2 = Employee(\"Fatima Ali\", 20345, \"IT\", \"Software Engineer\")\n",
        "emp3 = Employee(\"Bilal Ahmad\", 30456, \"Production\", \"Supervisor\")\n",
        "\n",
        "emp1.display()\n",
        "emp2.display()\n",
        "emp3.display()\n"
      ],
      "metadata": {
        "colab": {
          "base_uri": "https://localhost:8080/"
        },
        "id": "OegQsQLg3bnr",
        "outputId": "7b465720-a1d2-4cd9-b6e4-336ef25a7dab"
      },
      "execution_count": 10,
      "outputs": [
        {
          "output_type": "stream",
          "name": "stdout",
          "text": [
            "Name: Ahmed Khan\n",
            "ID Number: 10234\n",
            "Department: Finance\n",
            "Job Title: Manager\n",
            "------------------------------\n",
            "Name: Fatima Ali\n",
            "ID Number: 20345\n",
            "Department: IT\n",
            "Job Title: Software Engineer\n",
            "------------------------------\n",
            "Name: Bilal Ahmad\n",
            "ID Number: 30456\n",
            "Department: Production\n",
            "Job Title: Supervisor\n",
            "------------------------------\n"
          ]
        }
      ]
    },
    {
      "cell_type": "markdown",
      "source": [
        "Q4. Write a class named Patient that has attributes for the following data:\n",
        " First name, middle name, and last name\n",
        " Address, city, state, and ZIP code\n",
        " Phone number\n",
        " Name and phone number of emergency contact\n",
        "The Patient class’s _ _init_ _ method should accept an argument for each attribute. The Patient class\n",
        "should also have accessor and mutator methods for each attribute.\n",
        "Next, write a class named Procedure that represents a medical procedure that has been performed on a\n",
        "patient. The Procedure class should have attributes for the following data:\n",
        " Name of the procedure\n",
        " Date of the procedure\n",
        " Name of the practitioner who performed the procedure\n",
        " Charges for the procedure\n",
        "The Procedure class’s _ _init_ _ method should accept an argument for each attribute. The Procedure\n",
        "class should also have accessor and mutator methods for each attribute. Next, write a program that\n",
        "creates an instance of the Patient class, initialized with sample data. Then, create three instances of the\n",
        "Procedure class, initialized with the following data:"
      ],
      "metadata": {
        "id": "dCkSIcUw3kR5"
      }
    },
    {
      "cell_type": "code",
      "source": [
        "from datetime import date\n",
        "\n",
        "class Patient:\n",
        "    def __init__(self, first_name, middle_name, last_name, address, city, state, zip_code, phone, emergency_name, emergency_phone):\n",
        "        self.first_name = first_name\n",
        "        self.middle_name = middle_name\n",
        "        self.last_name = last_name\n",
        "        self.address = address\n",
        "        self.city = city\n",
        "        self.state = state\n",
        "        self.zip_code = zip_code\n",
        "        self.phone = phone\n",
        "        self.emergency_name = emergency_name\n",
        "        self.emergency_phone = emergency_phone\n",
        "\n",
        "    def get_full_name(self):\n",
        "        return f\"{self.first_name} {self.middle_name} {self.last_name}\"\n",
        "\n",
        "    def display_info(self):\n",
        "        print(\"Patient Information\")\n",
        "        print(\"-------------------\")\n",
        "        print(f\"Name: {self.get_full_name()}\")\n",
        "        print(f\"Address: {self.address}, {self.city}, {self.state} {self.zip_code}\")\n",
        "        print(f\"Phone: {self.phone}\")\n",
        "        print(f\"Emergency Contact: {self.emergency_name} ({self.emergency_phone})\")\n",
        "        print()\n",
        "\n",
        "\n",
        "class Procedure:\n",
        "    def __init__(self, procedure_name, procedure_date, practitioner, charge):\n",
        "        self.procedure_name = procedure_name\n",
        "        self.procedure_date = procedure_date\n",
        "        self.practitioner = practitioner\n",
        "        self.charge = charge\n",
        "\n",
        "    def display_info(self):\n",
        "        print(f\"Procedure: {self.procedure_name}\")\n",
        "        print(f\"Date: {self.procedure_date}\")\n",
        "        print(f\"Practitioner: {self.practitioner}\")\n",
        "        print(f\"Charge: ${self.charge:.2f}\")\n",
        "        print()\n",
        "\n",
        "\n",
        "patient1 = Patient(\n",
        "    \"Ahmed\", \"Ibrahim\", \"Khan\",\n",
        "    \"123 Street\", \"Karachi\", \"Sindh\", \"75400\",\n",
        "    \"0300-1234567\", \"Fatima Khan\", \"0301-7654321\"\n",
        ")\n",
        "\n",
        "today = date.today().strftime(\"%d-%m-%Y\")\n",
        "\n",
        "procedure1 = Procedure(\"Physical Exam\", today, \"Dr. Irvine\", 250.00)\n",
        "procedure2 = Procedure(\"X-ray\", today, \"Dr. Jamison\", 500.00)\n",
        "procedure3 = Procedure(\"Blood test\", today, \"Dr. Smith\", 200.00)\n",
        "\n",
        "patient1.display_info()\n",
        "print(\"Procedures Information\")\n",
        "print(\"----------------------\")\n",
        "procedure1.display_info()\n",
        "procedure2.display_info()\n",
        "procedure3.display_info()\n",
        "\n",
        "total = procedure1.charge + procedure2.charge + procedure3.charge\n",
        "print(f\"Total Charges: ${total:.2f}\")\n"
      ],
      "metadata": {
        "colab": {
          "base_uri": "https://localhost:8080/"
        },
        "id": "8lnOfKYZ5jug",
        "outputId": "067a633e-fcb9-4131-a154-2ac692ddba38"
      },
      "execution_count": 11,
      "outputs": [
        {
          "output_type": "stream",
          "name": "stdout",
          "text": [
            "Patient Information\n",
            "-------------------\n",
            "Name: Ahmed Ibrahim Khan\n",
            "Address: 123 Street, Karachi, Sindh 75400\n",
            "Phone: 0300-1234567\n",
            "Emergency Contact: Fatima Khan (0301-7654321)\n",
            "\n",
            "Procedures Information\n",
            "----------------------\n",
            "Procedure: Physical Exam\n",
            "Date: 30-10-2025\n",
            "Practitioner: Dr. Irvine\n",
            "Charge: $250.00\n",
            "\n",
            "Procedure: X-ray\n",
            "Date: 30-10-2025\n",
            "Practitioner: Dr. Jamison\n",
            "Charge: $500.00\n",
            "\n",
            "Procedure: Blood test\n",
            "Date: 30-10-2025\n",
            "Practitioner: Dr. Smith\n",
            "Charge: $200.00\n",
            "\n",
            "Total Charges: $950.00\n"
          ]
        }
      ]
    },
    {
      "cell_type": "markdown",
      "source": [
        "Q5. Assume a file containing a series of integers is named numbers.txt and exists on the computer’s\n",
        "disk. Write a program that calculates the average of all the numbers stored in the file.\n",
        "it handles the following exceptions:\n",
        "a) It should handle any IOError exceptions that are raised when the file is opened and data is read\n",
        "from it.\n",
        "b) It should handle any ValueError exceptions that are raised when the items that are read from\n",
        "the file are converted to a number"
      ],
      "metadata": {
        "id": "7ajIrhvT63Qw"
      }
    },
    {
      "cell_type": "code",
      "source": [
        "try:\n",
        "    with open(\"numbers.txt\", \"r\") as file:\n",
        "        total = 0\n",
        "        count = 0\n",
        "        for line in file:\n",
        "            try:\n",
        "                number = int(line.strip())\n",
        "                total += number\n",
        "                count += 1\n",
        "            except ValueError:\n",
        "                print(f\"ValueError: Invalid data found -> {line.strip()}\")\n",
        "        if count > 0:\n",
        "            average = total / count\n",
        "            print(f\"Average of numbers: {average}\")\n",
        "        else:\n",
        "            print(\"No valid numbers found in the file.\")\n",
        "except IOError:\n",
        "    print(\"IOError: Problem opening or reading the file.\")\n"
      ],
      "metadata": {
        "colab": {
          "base_uri": "https://localhost:8080/"
        },
        "id": "LYJqdHFX6-Ed",
        "outputId": "c685e923-a229-425d-8605-25924c9c17da"
      },
      "execution_count": 12,
      "outputs": [
        {
          "output_type": "stream",
          "name": "stdout",
          "text": [
            "IOError: Problem opening or reading the file.\n"
          ]
        }
      ]
    },
    {
      "cell_type": "markdown",
      "source": [
        "Q6. Write a Python program that processes a multi-line string containing mixed information such as\n",
        "email addresses, IP addresses, dates, phone numbers, and URLs.\n",
        "Input:\n",
        "text = &quot;&quot;&quot;\n",
        "User: John Doe\n",
        "\n",
        "Email: john.doe@gmail.com\n",
        "Backup Email: johnd123@company.org\n",
        "IP: 192.168.0.1\n",
        "Invalid IP: 999.888.77.666\n",
        "Date Joined: 12-05-2023\n",
        "Website: https://www.example.com/profile\n",
        "Contact: +92-300-1234567 or (051) 6543210\n",
        "&quot;&quot;&quot;\n",
        "Your task is to:\n",
        "1. Extract all of the following using regular expressions:\n",
        " Valid email addresses (e.g., username@domain.com)\n",
        " Valid IPv4 addresses (e.g., 192.168.0.1)\n",
        " Dates in the formats DD-MM-YYYY, DD/MM/YYYY, or YYYY-MM-DD\n",
        " Phone numbers in the formats like:\n",
        "o +92-300-1234567\n",
        "o (051) 1234567\n",
        "o 0300-1234567\n",
        " URLs (e.g., https://www.example.com or http://domain.org/path)\n",
        "2. Validate each extracted item using appropriate patterns to ensure correctness (for example, avoid\n",
        "invalid IPs like 999.999.999.999).\n",
        "3. Store results in a dictionary having the structure:\n",
        "\n",
        "results = {\n",
        "&quot;emails&quot;: [...],\n",
        "&quot;ips&quot;: [...],\n",
        "&quot;dates&quot;: [...],\n",
        "&quot;phones&quot;: [...],\n",
        "&quot;urls&quot;: [...]\n",
        "}\n",
        "\n",
        "4. Print the extracted data in a formatted way.\n",
        "Expected Output (Sample):\n",
        "{\n",
        "&#39;emails&#39;: [&#39;john.doe@gmail.com&#39;, &#39;johnd123@company.org&#39;],\n",
        "&#39;ips&#39;: [&#39;192.168.0.1&#39;],\n",
        "\n",
        "&#39;dates&#39;: [&#39;12-05-2023&#39;],\n",
        "&#39;phones&#39;: [&#39;+92-300-1234567&#39;, &#39;(051) 6543210&#39;],\n",
        "&#39;urls&#39;: [&#39;https://www.example.com/profile&#39;]\n",
        "}"
      ],
      "metadata": {
        "id": "ZaXNK8w87lCx"
      }
    },
    {
      "cell_type": "code",
      "source": [
        "import re\n",
        "\n",
        "text = \"\"\"\n",
        "User: John Doe\n",
        "\n",
        "Email: john.doe@gmail.com\n",
        "Backup Email: johnd123@company.org\n",
        "IP: 192.168.0.1\n",
        "Invalid IP: 999.888.77.666\n",
        "Date Joined: 12-05-2023\n",
        "Website: https://www.example.com/profile\n",
        "Contact: +92-300-1234567 or (051) 6543210\n",
        "\"\"\"\n",
        "\n",
        "email_pattern = r'\\b[a-zA-Z0-9._%+-]+@[a-zA-Z0-9.-]+\\.[a-zA-Z]{2,}\\b'\n",
        "ip_pattern = r'\\b(?:[0-9]{1,3}\\.){3}[0-9]{1,3}\\b'\n",
        "date_pattern = r'\\b(?:\\d{2}[-/]\\d{2}[-/]\\d{4}|\\d{4}[-/]\\d{2}[-/]\\d{2})\\b'\n",
        "phone_pattern = r'\\b(?:\\+?\\d{2,3}[- ]?\\d{3}[- ]?\\d{7}|\\(\\d{3,4}\\)\\s?\\d{6,7}|\\d{4}[- ]?\\d{7})\\b'\n",
        "url_pattern = r'https?://[^\\s]+'\n",
        "\n",
        "emails = re.findall(email_pattern, text)\n",
        "ips = re.findall(ip_pattern, text)\n",
        "dates = re.findall(date_pattern, text)\n",
        "phones = re.findall(phone_pattern, text)\n",
        "urls = re.findall(url_pattern, text)\n",
        "\n",
        "valid_ips = []\n",
        "for ip in ips:\n",
        "    parts = ip.split('.')\n",
        "    if all(0 <= int(part) <= 255 for part in parts):\n",
        "        valid_ips.append(ip)\n",
        "\n",
        "results = {\n",
        "    \"emails\": emails,\n",
        "    \"ips\": valid_ips,\n",
        "    \"dates\": dates,\n",
        "    \"phones\": phones,\n",
        "    \"urls\": urls\n",
        "}\n",
        "\n",
        "print(results)\n"
      ],
      "metadata": {
        "colab": {
          "base_uri": "https://localhost:8080/"
        },
        "id": "IhZPR6dE7uqp",
        "outputId": "57a045ee-fbd3-450a-c899-1a4ce05718ba"
      },
      "execution_count": 13,
      "outputs": [
        {
          "output_type": "stream",
          "name": "stdout",
          "text": [
            "{'emails': ['john.doe@gmail.com', 'johnd123@company.org'], 'ips': ['192.168.0.1'], 'dates': ['12-05-2023'], 'phones': ['92-300-1234567'], 'urls': ['https://www.example.com/profile']}\n"
          ]
        }
      ]
    }
  ]
}