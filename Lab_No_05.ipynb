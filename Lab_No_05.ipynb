{
  "nbformat": 4,
  "nbformat_minor": 0,
  "metadata": {
    "colab": {
      "provenance": []
    },
    "kernelspec": {
      "name": "python3",
      "display_name": "Python 3"
    },
    "language_info": {
      "name": "python"
    }
  },
  "cells": [
    {
      "cell_type": "markdown",
      "source": [
        "# Name: Adil khan\n",
        "# Roll no: 2330-0030"
      ],
      "metadata": {
        "id": "VMBsuhfDdZE-"
      }
    },
    {
      "cell_type": "markdown",
      "source": [
        "1. Write NumPy programs for the following:\n",
        " Sort a given 2D-array along the first axis, last axis, and on flattened array.\n",
        " Create a 3x3 matrix with values ranging from 2 to 10.\n",
        " Convert the values of centigrade degrees into Fahrenheit degrees using formula\n",
        "F = (C * 9/5) + 32\n",
        " Centigrade values are stored into NumPy array.\n",
        " Calculate the difference between maximum and minimum values of a given array along last\n",
        "axis."
      ],
      "metadata": {
        "id": "un5rYKtogeZU"
      }
    },
    {
      "cell_type": "code",
      "execution_count": 1,
      "metadata": {
        "colab": {
          "base_uri": "https://localhost:8080/"
        },
        "id": "T3XPJzbJgauw",
        "outputId": "95941dd3-ce44-401d-8e90-be61df09eca7"
      },
      "outputs": [
        {
          "output_type": "stream",
          "name": "stdout",
          "text": [
            "Original Array:\n",
            " [[12  5  7]\n",
            " [ 3  8  1]\n",
            " [10  2  9]]\n",
            "\n",
            "Sorted along first axis:\n",
            " [[ 3  2  1]\n",
            " [10  5  7]\n",
            " [12  8  9]]\n",
            "\n",
            "Sorted along last axis:\n",
            " [[ 5  7 12]\n",
            " [ 1  3  8]\n",
            " [ 2  9 10]]\n",
            "\n",
            "Sorted flattened array:\n",
            " [ 1  2  3  5  7  8  9 10 12]\n",
            "\n",
            "3x3 matrix with values from 2 to 10:\n",
            " [[ 2  3  4]\n",
            " [ 5  6  7]\n",
            " [ 8  9 10]]\n",
            "\n",
            "Centigrade to Fahrenheit conversion:\n",
            "Centigrade: [  0  20  37 100]\n",
            "Fahrenheit: [ 32.   68.   98.6 212. ]\n",
            "\n",
            "Difference between max and min values along last axis:\n",
            " [ 8  7 11]\n"
          ]
        }
      ],
      "source": [
        "import numpy as np\n",
        "\n",
        "arr = np.array([[12, 5, 7],\n",
        "                [3, 8, 1],\n",
        "                [10, 2, 9]])\n",
        "\n",
        "print(\"Original Array:\\n\", arr)\n",
        "\n",
        "sort_first_axis = np.sort(arr, axis=0)\n",
        "print(\"\\nSorted along first axis:\\n\", sort_first_axis)\n",
        "\n",
        "sort_last_axis = np.sort(arr, axis=1)\n",
        "print(\"\\nSorted along last axis:\\n\", sort_last_axis)\n",
        "\n",
        "sort_flattened = np.sort(arr, axis=None)\n",
        "print(\"\\nSorted flattened array:\\n\", sort_flattened)\n",
        "\n",
        "matrix = np.arange(2, 11).reshape(3, 3)\n",
        "print(\"\\n3x3 matrix with values from 2 to 10:\\n\", matrix)\n",
        "\n",
        "C = np.array([0, 20, 37, 100])\n",
        "F = (C * 9/5) + 32\n",
        "print(\"\\nCentigrade to Fahrenheit conversion:\")\n",
        "print(\"Centigrade:\", C)\n",
        "print(\"Fahrenheit:\", F)\n",
        "\n",
        "arr2 = np.array([[5, 9, 1],\n",
        "                 [10, 3, 8],\n",
        "                 [6, 15, 4]])\n",
        "\n",
        "diff = np.ptp(arr2, axis=1)\n",
        "print(\"\\nDifference between max and min values along last axis:\\n\", diff)\n"
      ]
    },
    {
      "cell_type": "markdown",
      "source": [
        "2. Create two separate data frame using pandas with the information given in below tables.\n",
        "Perform the following tasks:\n",
        " Merge both the data frames\n",
        " Sort w.r.t. employee salary in descending order\n",
        " Display the employee details with maximum salary\n",
        " Find how much variance exists between salaries of employees\n",
        " Make a histogram of the above data wrt. Salary having 5 bins."
      ],
      "metadata": {
        "id": "6fDA0z2PcZPr"
      }
    },
    {
      "cell_type": "code",
      "source": [
        "import pandas as pd\n",
        "import matplotlib.pyplot as plt\n",
        "\n",
        "data1 = {'Emp_ID': [100, 110, 150, 123, 145, 112],\n",
        "         'Emp_Name': ['Margaret', 'Chris', 'Allen', 'Susan', 'Simpson', 'Davis']}\n",
        "data2 = {'Emp_ID': [100, 110, 150, 123, 145, 112],\n",
        "         'Salary': [43000, 23000, 34000, 41200, 24000, 33300]}\n",
        "\n",
        "df1 = pd.DataFrame(data1)\n",
        "df2 = pd.DataFrame(data2)\n",
        "merged_df = pd.merge(df1, df2, on='Emp_ID')\n",
        "sorted_df = merged_df.sort_values(by='Salary', ascending=False)\n",
        "print(\"Sorted DataFrame (Descending Salary):\\n\", sorted_df, \"\\n\")\n",
        "max_salary_emp = merged_df[merged_df['Salary'] == merged_df['Salary'].max()]\n",
        "print(\"Employee with Maximum Salary:\\n\", max_salary_emp, \"\\n\")\n",
        "salary_variance = merged_df['Salary'].var()\n",
        "print(\"Variance in Employee Salaries:\", salary_variance, \"\\n\")\n",
        "plt.hist(merged_df['Salary'], bins=5, edgecolor='black')\n",
        "plt.title('Employee Salary Distribution')\n",
        "plt.xlabel('Salary')\n",
        "plt.ylabel('Frequency')\n",
        "plt.show()\n",
        "\n"
      ],
      "metadata": {
        "colab": {
          "base_uri": "https://localhost:8080/",
          "height": 732
        },
        "id": "O-cPhFVgcdRK",
        "outputId": "1bb39d83-f46b-45ef-dc3d-8e25d44c3cfa"
      },
      "execution_count": 1,
      "outputs": [
        {
          "output_type": "stream",
          "name": "stdout",
          "text": [
            "Sorted DataFrame (Descending Salary):\n",
            "    Emp_ID  Emp_Name  Salary\n",
            "0     100  Margaret   43000\n",
            "3     123     Susan   41200\n",
            "2     150     Allen   34000\n",
            "5     112     Davis   33300\n",
            "4     145   Simpson   24000\n",
            "1     110     Chris   23000 \n",
            "\n",
            "Employee with Maximum Salary:\n",
            "    Emp_ID  Emp_Name  Salary\n",
            "0     100  Margaret   43000 \n",
            "\n",
            "Variance in Employee Salaries: 69857666.66666666 \n",
            "\n"
          ]
        },
        {
          "output_type": "display_data",
          "data": {
            "text/plain": [
              "<Figure size 640x480 with 1 Axes>"
            ],
            "image/png": "[encoded data removed]"
          },
          "metadata": {}
        }
      ]
    }
  ]
}