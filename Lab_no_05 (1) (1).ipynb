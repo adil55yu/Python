{
  "nbformat": 4,
  "nbformat_minor": 0,
  "metadata": {
    "colab": {
      "provenance": []
    },
    "kernelspec": {
      "name": "python3",
      "display_name": "Python 3"
    },
    "language_info": {
      "name": "python"
    }
  },
  "cells": [
    {
      "cell_type": "markdown",
      "source": [
        "Name: Adil Khan\n",
        "Roll No: 2330-0030"
      ],
      "metadata": {
        "id": "ZiwhN6fQzmt3"
      }
    },
    {
      "cell_type": "markdown",
      "source": [
        "1. Write a recursive function that counts how many times a given element\n",
        "appears in a list.\n",
        "(Example: [1, 2, 3, 2, 2, 5], target=2 → Output: 3)"
      ],
      "metadata": {
        "id": "H_yx1b7XzmhI"
      }
    },
    {
      "cell_type": "code",
      "execution_count": 1,
      "metadata": {
        "colab": {
          "base_uri": "https://localhost:8080/"
        },
        "id": "cRb69amIg-3X",
        "outputId": "9916bb99-097e-4a8a-ad1d-9bfc680212da"
      },
      "outputs": [
        {
          "output_type": "stream",
          "name": "stdout",
          "text": [
            "3\n"
          ]
        }
      ],
      "source": [
        "def count_occurrences(lst, target):\n",
        "    if not lst:\n",
        "        return 0\n",
        "    return (1 if lst[0] == target else 0) + count_occurrences(lst[1:], target)\n",
        "\n",
        "print(count_occurrences([1, 2, 3, 2, 2, 5], 2))\n"
      ]
    },
    {
      "cell_type": "markdown",
      "source": [
        "2. Write a recursive function that finds the sum of all digits of a number.\n",
        "(Example: 123 → 6)"
      ],
      "metadata": {
        "id": "5fRYroXMz0I7"
      }
    },
    {
      "cell_type": "code",
      "source": [
        "def sum_of_digits(n):\n",
        "    if n == 0:\n",
        "        return 0\n",
        "    return n % 10 + sum_of_digits(n // 10)\n",
        "\n",
        "print(sum_of_digits(123))"
      ],
      "metadata": {
        "colab": {
          "base_uri": "https://localhost:8080/"
        },
        "id": "oYHl3tKnz53t",
        "outputId": "2c39faaa-ccaa-4991-d2d9-d949eea40db6"
      },
      "execution_count": 2,
      "outputs": [
        {
          "output_type": "stream",
          "name": "stdout",
          "text": [
            "6\n"
          ]
        }
      ]
    },
    {
      "cell_type": "markdown",
      "source": [
        "3. Write a recursive function that finds the sum of all numbers in a nested list.\n",
        "(Example: [1, [2, [3, 4]], 5] → 15)"
      ],
      "metadata": {
        "id": "9f-Ax_tZ0Joi"
      }
    },
    {
      "cell_type": "code",
      "source": [
        "def sum_nested_list(lst):\n",
        "    total = 0\n",
        "    for item in lst:\n",
        "        if isinstance(item, list):\n",
        "            total += sum_nested_list(item)\n",
        "        else:\n",
        "            total += item\n",
        "    return total\n",
        "\n",
        "print(sum_nested_list([1, [2, [3, 4]], 5]))"
      ],
      "metadata": {
        "colab": {
          "base_uri": "https://localhost:8080/"
        },
        "id": "gKzmKSUu0NcY",
        "outputId": "58ba6c57-4195-44fc-dd93-556c64eb1921"
      },
      "execution_count": 3,
      "outputs": [
        {
          "output_type": "stream",
          "name": "stdout",
          "text": [
            "15\n"
          ]
        }
      ]
    },
    {
      "cell_type": "markdown",
      "source": [
        "4. Write a recursive function that converts a decimal number to its binary form.\n",
        "(Example: 13 → 1101)"
      ],
      "metadata": {
        "id": "hLOwRd-60V3W"
      }
    },
    {
      "cell_type": "code",
      "source": [
        "def decimal_to_binary(n):\n",
        "    if n == 0:\n",
        "        return ''\n",
        "    return decimal_to_binary(n // 2) + str(n % 2)\n",
        "\n",
        "print(decimal_to_binary(13))"
      ],
      "metadata": {
        "colab": {
          "base_uri": "https://localhost:8080/"
        },
        "id": "UiIZlHy00boY",
        "outputId": "219b6180-8e2f-41e2-ae14-b69861be2f02"
      },
      "execution_count": 4,
      "outputs": [
        {
          "output_type": "stream",
          "name": "stdout",
          "text": [
            "1101\n"
          ]
        }
      ]
    },
    {
      "cell_type": "markdown",
      "source": [
        "5. Write a recursive function to flatten a nested list into a single list.\n",
        "(Example: [1, [2, [3, 4]], 5] → [1, 2, 3, 4, 5])"
      ],
      "metadata": {
        "id": "jvTiLi8J0i73"
      }
    },
    {
      "cell_type": "code",
      "source": [
        "def flatten_list(lst):\n",
        "    result = []\n",
        "    for item in lst:\n",
        "        if isinstance(item, list):\n",
        "            result += flatten_list(item)\n",
        "        else:\n",
        "            result.append(item)\n",
        "    return result\n",
        "\n",
        "print(flatten_list([1, [2, [3, 4]], 5]))"
      ],
      "metadata": {
        "colab": {
          "base_uri": "https://localhost:8080/"
        },
        "id": "_0OU7RyT0mjq",
        "outputId": "84a2b24b-74e9-4c18-d4e2-3237cc3739f7"
      },
      "execution_count": 5,
      "outputs": [
        {
          "output_type": "stream",
          "name": "stdout",
          "text": [
            "[1, 2, 3, 4, 5]\n"
          ]
        }
      ]
    },
    {
      "cell_type": "markdown",
      "source": [
        "6. Create a text file named intro.txt, write a short paragraph about yourself,\n",
        "then read and display its content on the screen."
      ],
      "metadata": {
        "id": "8VWZRszp0sV9"
      }
    },
    {
      "cell_type": "code",
      "source": [
        "with open(\"intro.txt\", \"w\") as file:\n",
        "    file.write(\"My name is Adil Khan. I am learning Python programming. \"\n",
        "               \"I enjoy solving coding problems and exploring new technologies.\")\n",
        "\n",
        "with open(\"intro.txt\", \"r\") as file:\n",
        "    content = file.read()\n",
        "    print(content)\n"
      ],
      "metadata": {
        "colab": {
          "base_uri": "https://localhost:8080/"
        },
        "id": "Wpvic-nP0xrP",
        "outputId": "30789829-515a-4a6e-e2c4-6f454edbeb76"
      },
      "execution_count": 6,
      "outputs": [
        {
          "output_type": "stream",
          "name": "stdout",
          "text": [
            "My name is Adil Khan. I am learning Python programming. I enjoy solving coding problems and exploring new technologies.\n"
          ]
        }
      ]
    },
    {
      "cell_type": "markdown",
      "source": [
        "7. Write a recursive function that counts how many lines are in a file\n",
        "(students.txt) without using loops."
      ],
      "metadata": {
        "id": "AJrzpFl90-Du"
      }
    },
    {
      "cell_type": "code",
      "source": [
        "def count_lines(file):\n",
        "    line = file.readline()\n",
        "    if not line:\n",
        "        return 0\n",
        "    return 1 + count_lines(file)\n",
        "\n",
        "with open(\"students.txt\", \"w\") as f:\n",
        "    f.write(\"Alice\\n\")\n",
        "    f.write(\"Bob\\n\")\n",
        "    f.write(\"Charlie\\n\")\n",
        "with open(\"students.txt\", \"r\") as f:\n",
        "    print(count_lines(f))"
      ],
      "metadata": {
        "colab": {
          "base_uri": "https://localhost:8080/"
        },
        "id": "T33-6j9r0_Kr",
        "outputId": "293aaa06-5a85-45cb-f074-615753282aef"
      },
      "execution_count": 10,
      "outputs": [
        {
          "output_type": "stream",
          "name": "stdout",
          "text": [
            "3\n"
          ]
        }
      ]
    },
    {
      "cell_type": "markdown",
      "source": [
        "8. Write a recursive function to print all permutations of a given string.\n",
        "(Example: “abc” → “abc”, “acb”, “bac”, “bca”, “cab”, “cba”)"
      ],
      "metadata": {
        "id": "Ln-16lTU1guc"
      }
    },
    {
      "cell_type": "code",
      "source": [
        "def permutations(s):\n",
        "    if len(s) == 1:\n",
        "        return [s]\n",
        "    result = []\n",
        "    for i in range(len(s)):\n",
        "        for p in permutations(s[:i] + s[i+1:]):\n",
        "            result.append(s[i] + p)\n",
        "    return result\n",
        "\n",
        "print(permutations(\"abc\"))\n"
      ],
      "metadata": {
        "colab": {
          "base_uri": "https://localhost:8080/"
        },
        "id": "GC5gwa-_1lhB",
        "outputId": "cae84027-55e6-40cc-8cdc-2091e9153e11"
      },
      "execution_count": 11,
      "outputs": [
        {
          "output_type": "stream",
          "name": "stdout",
          "text": [
            "['abc', 'acb', 'bac', 'bca', 'cab', 'cba']\n"
          ]
        }
      ]
    },
    {
      "cell_type": "markdown",
      "source": [
        "9. Read a file and display which line is the longest and which one is the\n",
        "shortest (by number of characters)."
      ],
      "metadata": {
        "id": "Qzl4cUHs1pVW"
      }
    },
    {
      "cell_type": "code",
      "source": [
        "with open(\"students.txt\", \"r\") as file:\n",
        "    lines = file.readlines()\n",
        "\n",
        "longest = max(lines, key=len)\n",
        "shortest = min(lines, key=len)\n",
        "\n",
        "print(\"Longest line:\", longest.strip())\n",
        "print(\"Shortest line:\", shortest.strip())\n"
      ],
      "metadata": {
        "colab": {
          "base_uri": "https://localhost:8080/"
        },
        "id": "s_oApvaS1s9U",
        "outputId": "3e6be105-31ec-4492-c97b-88ef367724cf"
      },
      "execution_count": 12,
      "outputs": [
        {
          "output_type": "stream",
          "name": "stdout",
          "text": [
            "Longest line: Charlie\n",
            "Shortest line: Bob\n"
          ]
        }
      ]
    },
    {
      "cell_type": "markdown",
      "source": [
        "10. Write a program that reads a text file and prints:\n",
        "1.  Total number of lines\n",
        "2.  Total number of words\n",
        "3.  Total number of characters\n",
        "\n",
        "\n",
        "\n",
        "\n"
      ],
      "metadata": {
        "id": "nhmqhNu65wJG"
      }
    },
    {
      "cell_type": "code",
      "source": [
        "with open(\"students.txt\", \"r\") as file:\n",
        "    lines = file.readlines()\n",
        "\n",
        "num_lines = len(lines)\n",
        "num_words = sum(len(line.split()) for line in lines)\n",
        "num_chars = sum(len(line) for line in lines)\n",
        "\n",
        "print(\"Total lines:\", num_lines)\n",
        "print(\"Total words:\", num_words)\n",
        "print(\"Total characters:\", num_chars)\n"
      ],
      "metadata": {
        "colab": {
          "base_uri": "https://localhost:8080/"
        },
        "id": "hr2_9Qij6hBO",
        "outputId": "110c4d49-185e-4d11-e177-b586cd865d3b"
      },
      "execution_count": 13,
      "outputs": [
        {
          "output_type": "stream",
          "name": "stdout",
          "text": [
            "Total lines: 3\n",
            "Total words: 3\n",
            "Total characters: 18\n"
          ]
        }
      ]
    }
  ]
}