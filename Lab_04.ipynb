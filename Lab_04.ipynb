{
  "nbformat": 4,
  "nbformat_minor": 0,
  "metadata": {
    "colab": {
      "provenance": []
    },
    "kernelspec": {
      "name": "python3",
      "display_name": "Python 3"
    },
    "language_info": {
      "name": "python"
    }
  },
  "cells": [
    {
      "cell_type": "markdown",
      "source": [
        "Task No 01:"
      ],
      "metadata": {
        "id": "3Qkkus7Ta4Hc"
      }
    },
    {
      "cell_type": "code",
      "execution_count": 2,
      "metadata": {
        "colab": {
          "base_uri": "https://localhost:8080/"
        },
        "id": "EN0FEKkcbVTv",
        "outputId": "05beb29e-b2fa-412f-e812-b2598ddf170e"
      },
      "outputs": [
        {
          "output_type": "stream",
          "name": "stdout",
          "text": [
            "Path found: ['A', 'F', 'G', 'I', 'H']\n"
          ]
        },
        {
          "output_type": "execute_result",
          "data": {
            "text/plain": [
              "['A', 'F', 'G', 'I', 'H']"
            ]
          },
          "metadata": {},
          "execution_count": 2
        }
      ],
      "source": [
        "def get_neighbors(v):\n",
        "    if v in Graph_nodes:\n",
        "        return Graph_nodes[v]\n",
        "    else:\n",
        "        return None\n",
        "\n",
        "def heuristic(n):\n",
        "    H_dist = {\n",
        "        'A': 11,\n",
        "        'B': 6,\n",
        "        'C': 5,\n",
        "        'D': 7,\n",
        "        'E': 3,\n",
        "        'F': 6,\n",
        "        'G': 5,\n",
        "        'H': 3,\n",
        "        'I': 1,\n",
        "        'J': 0\n",
        "    }\n",
        "    return H_dist[n]\n",
        "\n",
        "Graph_nodes = {\n",
        "    'A': [('B', 6), ('F', 3)],\n",
        "    'B': [('A', 6), ('C', 3), ('D', 2)],\n",
        "    'C': [('B', 3), ('D', 1), ('E', 5)],\n",
        "    'D': [('B', 2), ('C', 1), ('E', 8)],\n",
        "    'E': [('C', 5), ('D', 8), ('I', 5), ('J', 5)],\n",
        "    'F': [('A', 3), ('G', 1), ('H', 7)],\n",
        "    'G': [('F', 1), ('I', 3)],\n",
        "    'H': [('F', 7), ('I', 2)],\n",
        "    'I': [('E', 5), ('G', 3), ('H', 2), ('J', 3)],\n",
        "}\n",
        "\n",
        "def aStarAlgo(start_node, stop_node):\n",
        "    open_list = set([start_node])\n",
        "    closed_list = set([])\n",
        "    g = {}\n",
        "    parents = {}\n",
        "\n",
        "    g[start_node] = 0\n",
        "    parents[start_node] = start_node\n",
        "\n",
        "    while len(open_list) > 0:\n",
        "        n = None\n",
        "        for v in open_list:\n",
        "            if n == None or g[v] + heuristic(v) < g[n] + heuristic(n):\n",
        "                n = v\n",
        "\n",
        "        if n == None:\n",
        "            print(\"Path does not exist!\")\n",
        "            return None\n",
        "\n",
        "        if n == stop_node:\n",
        "            path = []\n",
        "            while parents[n] != n:\n",
        "                path.append(n)\n",
        "                n = parents[n]\n",
        "            path.append(start_node)\n",
        "            path.reverse()\n",
        "            print(\"Path found:\", path)\n",
        "            return path\n",
        "\n",
        "        neighbors = get_neighbors(n)\n",
        "        if neighbors is not None: # Added check here\n",
        "            for (m, weight) in neighbors:\n",
        "                if m not in open_list and m not in closed_list:\n",
        "                    open_list.add(m)\n",
        "                    parents[m] = n\n",
        "                    g[m] = g[n] + weight\n",
        "                else:\n",
        "                    if g[m] > g[n] + weight:\n",
        "                        g[m] = g[n] + weight\n",
        "                        parents[m] = n\n",
        "                        if m in closed_list:\n",
        "                            closed_list.remove(m)\n",
        "                            open_list.add(m)\n",
        "\n",
        "        open_list.remove(n)\n",
        "        closed_list.add(n)\n",
        "\n",
        "    print(\"Path does not exist!\")\n",
        "    return None\n",
        "\n",
        "aStarAlgo('A', 'H')"
      ]
    },
    {
      "cell_type": "markdown",
      "source": [
        "Task No 02:"
      ],
      "metadata": {
        "id": "tWI9K9JpcxEz"
      }
    },
    {
      "cell_type": "code",
      "source": [
        "def get_neighbors(v):\n",
        "    if v in Graph_nodes:\n",
        "        return Graph_nodes[v]\n",
        "    else:\n",
        "        return None\n",
        "\n",
        "def heuristic(n):\n",
        "    H_dist = {\n",
        "        'Arad': 400,\n",
        "        'Zerind': 374,\n",
        "        'Oradea': 380,\n",
        "        'Sibiu': 253,\n",
        "        'Timisoara': 329,\n",
        "        'Lugoj': 244,\n",
        "        'Mehadia': 241,\n",
        "        'Dobreta': 242,\n",
        "        'Rimnicu Vilcea': 193,\n",
        "        'Fagaras': 176,\n",
        "        'Pitesti': 100,\n",
        "        'Craiova': 160,\n",
        "        'Bucharest': 85,\n",
        "        'Giurgiu': 90,\n",
        "        'Urziceni': 98,\n",
        "        'Vaslui': 142,\n",
        "        'Iasi': 226,\n",
        "        'Neamt': 234,\n",
        "        'Hirsova': 0,\n",
        "        'Eforie': 86\n",
        "    }\n",
        "    return H_dist[n]\n",
        "\n",
        "Graph_nodes = {\n",
        "    'Arad': [('Zerind', 75), ('Sibiu', 140), ('Timisoara', 118)],\n",
        "    'Zerind': [('Arad', 75), ('Oradea', 71)],\n",
        "    'Oradea': [('Zerind', 71), ('Sibiu', 151)],\n",
        "    'Sibiu': [('Arad', 140), ('Oradea', 151), ('Fagaras', 99), ('Rimnicu Vilcea', 80)],\n",
        "    'Timisoara': [('Arad', 118), ('Lugoj', 111)],\n",
        "    'Lugoj': [('Timisoara', 111), ('Mehadia', 70)],\n",
        "    'Mehadia': [('Lugoj', 70), ('Dobreta', 75)],\n",
        "    'Dobreta': [('Mehadia', 75), ('Craiova', 120)],\n",
        "    'Craiova': [('Dobreta', 120), ('Rimnicu Vilcea', 146), ('Pitesti', 138)],\n",
        "    'Rimnicu Vilcea': [('Sibiu', 80), ('Craiova', 146), ('Pitesti', 97)],\n",
        "    'Fagaras': [('Sibiu', 99), ('Bucharest', 211)],\n",
        "    'Pitesti': [('Rimnicu Vilcea', 97), ('Craiova', 138), ('Bucharest', 101)],\n",
        "    'Bucharest': [('Fagaras', 211), ('Pitesti', 101), ('Giurgiu', 90), ('Urziceni', 85)],\n",
        "    'Giurgiu': [('Bucharest', 90)],\n",
        "    'Urziceni': [('Bucharest', 85), ('Vaslui', 142), ('Hirsova', 98)],\n",
        "    'Hirsova': [('Urziceni', 98), ('Eforie', 86)],\n",
        "    'Eforie': [('Hirsova', 86)],\n",
        "    'Vaslui': [('Urziceni', 142), ('Iasi', 92)],\n",
        "    'Iasi': [('Vaslui', 92), ('Neamt', 87)],\n",
        "    'Neamt': [('Iasi', 87)]\n",
        "}\n",
        "\n",
        "def aStarAlgo(start_node, stop_node):\n",
        "    open_list = set([start_node])\n",
        "    closed_list = set([])\n",
        "    g = {}\n",
        "    parents = {}\n",
        "\n",
        "    g[start_node] = 0\n",
        "    parents[start_node] = start_node\n",
        "\n",
        "    while len(open_list) > 0:\n",
        "        n = None\n",
        "        for v in open_list:\n",
        "            if n == None or g[v] + heuristic(v) < g[n] + heuristic(n):\n",
        "                n = v\n",
        "\n",
        "        if n == None:\n",
        "            print(\"Path does not exist!\")\n",
        "            return None\n",
        "\n",
        "        if n == stop_node:\n",
        "            path = []\n",
        "            while parents[n] != n:\n",
        "                path.append(n)\n",
        "                n = parents[n]\n",
        "            path.append(start_node)\n",
        "            path.reverse()\n",
        "            print(\"Path found:\", path)\n",
        "            print(\"Total Cost:\", g[stop_node])\n",
        "            return path\n",
        "\n",
        "        for (m, weight) in get_neighbors(n):\n",
        "            if m not in open_list and m not in closed_list:\n",
        "                open_list.add(m)\n",
        "                parents[m] = n\n",
        "                g[m] = g[n] + weight\n",
        "            else:\n",
        "                if g[m] > g[n] + weight:\n",
        "                    g[m] = g[n] + weight\n",
        "                    parents[m] = n\n",
        "                    if m in closed_list:\n",
        "                        closed_list.remove(m)\n",
        "                        open_list.add(m)\n",
        "\n",
        "        open_list.remove(n)\n",
        "        closed_list.add(n)\n",
        "\n",
        "    print(\"Path does not exist!\")\n",
        "    return None\n",
        "\n",
        "aStarAlgo('Arad', 'Hirsova')\n"
      ],
      "metadata": {
        "colab": {
          "base_uri": "https://localhost:8080/"
        },
        "id": "GFOaZ4Wyc0rP",
        "outputId": "c197a395-c77e-4298-9da3-cfc46b63339e"
      },
      "execution_count": 3,
      "outputs": [
        {
          "output_type": "stream",
          "name": "stdout",
          "text": [
            "Path found: ['Arad', 'Sibiu', 'Rimnicu Vilcea', 'Pitesti', 'Bucharest', 'Urziceni', 'Hirsova']\n",
            "Total Cost: 601\n"
          ]
        },
        {
          "output_type": "execute_result",
          "data": {
            "text/plain": [
              "['Arad',\n",
              " 'Sibiu',\n",
              " 'Rimnicu Vilcea',\n",
              " 'Pitesti',\n",
              " 'Bucharest',\n",
              " 'Urziceni',\n",
              " 'Hirsova']"
            ]
          },
          "metadata": {},
          "execution_count": 3
        }
      ]
    }
  ]
}